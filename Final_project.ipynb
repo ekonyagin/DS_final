{
 "cells": [
  {
   "cell_type": "code",
   "execution_count": 1,
   "metadata": {},
   "outputs": [],
   "source": [
    "import numpy as np\n",
    "import pandas as pd\n",
    "import operator"
   ]
  },
  {
   "cell_type": "markdown",
   "metadata": {},
   "source": [
    "The function below defines the ratio of NaNs in the code to the length of the column. If this ratio is greater than given threshold, the column is considered as severely missing values."
   ]
  },
  {
   "cell_type": "code",
   "execution_count": 2,
   "metadata": {},
   "outputs": [],
   "source": [
    "# count number of seriously missing values\n",
    "def missing_values(data, threshold):\n",
    "    i=0\n",
    "    names = []\n",
    "    data_length = len(data)\n",
    "    for name in data.columns:\n",
    "        a = ((1-data[name].count()/data_length)*100).astype(int)\n",
    "        if a > threshold:\n",
    "            i+=1\n",
    "            names.append(name)\n",
    "    return(i, names)"
   ]
  },
  {
   "cell_type": "code",
   "execution_count": 3,
   "metadata": {},
   "outputs": [],
   "source": [
    "data = pd.read_csv('https://www.openml.org/data/get_csv/53995/KDDCup09_churn.arff')\n",
    "data = data.replace({\"?\": np.NaN})"
   ]
  },
  {
   "cell_type": "code",
   "execution_count": 4,
   "metadata": {},
   "outputs": [],
   "source": [
    "bad_columns = missing_values(data,90)[1]"
   ]
  },
  {
   "cell_type": "code",
   "execution_count": 5,
   "metadata": {},
   "outputs": [],
   "source": [
    "data_clean = data.copy()    "
   ]
  },
  {
   "cell_type": "code",
   "execution_count": 6,
   "metadata": {},
   "outputs": [],
   "source": [
    "for col in bad_columns:\n",
    "    data_clean[col+\"_na\"] = data_clean[col] == np.NaN\n",
    "    data_clean.drop(col,axis=1,inplace=True)"
   ]
  },
  {
   "cell_type": "code",
   "execution_count": 7,
   "metadata": {},
   "outputs": [
    {
     "data": {
      "text/html": [
       "<div>\n",
       "<style scoped>\n",
       "    .dataframe tbody tr th:only-of-type {\n",
       "        vertical-align: middle;\n",
       "    }\n",
       "\n",
       "    .dataframe tbody tr th {\n",
       "        vertical-align: top;\n",
       "    }\n",
       "\n",
       "    .dataframe thead th {\n",
       "        text-align: right;\n",
       "    }\n",
       "</style>\n",
       "<table border=\"1\" class=\"dataframe\">\n",
       "  <thead>\n",
       "    <tr style=\"text-align: right;\">\n",
       "      <th></th>\n",
       "      <th>Var6</th>\n",
       "      <th>Var7</th>\n",
       "      <th>Var13</th>\n",
       "      <th>Var21</th>\n",
       "      <th>Var22</th>\n",
       "      <th>Var24</th>\n",
       "      <th>Var25</th>\n",
       "      <th>Var28</th>\n",
       "      <th>Var35</th>\n",
       "      <th>Var38</th>\n",
       "      <th>...</th>\n",
       "      <th>Var186_na</th>\n",
       "      <th>Var187_na</th>\n",
       "      <th>Var188_na</th>\n",
       "      <th>Var190_na</th>\n",
       "      <th>Var191_na</th>\n",
       "      <th>Var209_na</th>\n",
       "      <th>Var213_na</th>\n",
       "      <th>Var215_na</th>\n",
       "      <th>Var224_na</th>\n",
       "      <th>Var230_na</th>\n",
       "    </tr>\n",
       "  </thead>\n",
       "  <tbody>\n",
       "    <tr>\n",
       "      <th>0</th>\n",
       "      <td>1526</td>\n",
       "      <td>7</td>\n",
       "      <td>184</td>\n",
       "      <td>464</td>\n",
       "      <td>580</td>\n",
       "      <td>14</td>\n",
       "      <td>128</td>\n",
       "      <td>166.56</td>\n",
       "      <td>0</td>\n",
       "      <td>3570</td>\n",
       "      <td>...</td>\n",
       "      <td>False</td>\n",
       "      <td>False</td>\n",
       "      <td>False</td>\n",
       "      <td>False</td>\n",
       "      <td>False</td>\n",
       "      <td>False</td>\n",
       "      <td>False</td>\n",
       "      <td>False</td>\n",
       "      <td>False</td>\n",
       "      <td>False</td>\n",
       "    </tr>\n",
       "    <tr>\n",
       "      <th>1</th>\n",
       "      <td>525</td>\n",
       "      <td>0</td>\n",
       "      <td>0</td>\n",
       "      <td>168</td>\n",
       "      <td>210</td>\n",
       "      <td>2</td>\n",
       "      <td>24</td>\n",
       "      <td>353.52</td>\n",
       "      <td>0</td>\n",
       "      <td>4764966</td>\n",
       "      <td>...</td>\n",
       "      <td>False</td>\n",
       "      <td>False</td>\n",
       "      <td>False</td>\n",
       "      <td>False</td>\n",
       "      <td>False</td>\n",
       "      <td>False</td>\n",
       "      <td>False</td>\n",
       "      <td>False</td>\n",
       "      <td>False</td>\n",
       "      <td>False</td>\n",
       "    </tr>\n",
       "    <tr>\n",
       "      <th>2</th>\n",
       "      <td>5236</td>\n",
       "      <td>7</td>\n",
       "      <td>904</td>\n",
       "      <td>1212</td>\n",
       "      <td>1515</td>\n",
       "      <td>26</td>\n",
       "      <td>816</td>\n",
       "      <td>220.08</td>\n",
       "      <td>0</td>\n",
       "      <td>5883894</td>\n",
       "      <td>...</td>\n",
       "      <td>False</td>\n",
       "      <td>False</td>\n",
       "      <td>False</td>\n",
       "      <td>False</td>\n",
       "      <td>False</td>\n",
       "      <td>False</td>\n",
       "      <td>False</td>\n",
       "      <td>False</td>\n",
       "      <td>False</td>\n",
       "      <td>False</td>\n",
       "    </tr>\n",
       "    <tr>\n",
       "      <th>3</th>\n",
       "      <td>NaN</td>\n",
       "      <td>0</td>\n",
       "      <td>0</td>\n",
       "      <td>NaN</td>\n",
       "      <td>0</td>\n",
       "      <td>NaN</td>\n",
       "      <td>0</td>\n",
       "      <td>22.08</td>\n",
       "      <td>0</td>\n",
       "      <td>0</td>\n",
       "      <td>...</td>\n",
       "      <td>False</td>\n",
       "      <td>False</td>\n",
       "      <td>False</td>\n",
       "      <td>False</td>\n",
       "      <td>False</td>\n",
       "      <td>False</td>\n",
       "      <td>False</td>\n",
       "      <td>False</td>\n",
       "      <td>False</td>\n",
       "      <td>False</td>\n",
       "    </tr>\n",
       "    <tr>\n",
       "      <th>4</th>\n",
       "      <td>1029</td>\n",
       "      <td>7</td>\n",
       "      <td>3216</td>\n",
       "      <td>64</td>\n",
       "      <td>80</td>\n",
       "      <td>4</td>\n",
       "      <td>64</td>\n",
       "      <td>200</td>\n",
       "      <td>0</td>\n",
       "      <td>0</td>\n",
       "      <td>...</td>\n",
       "      <td>False</td>\n",
       "      <td>False</td>\n",
       "      <td>False</td>\n",
       "      <td>False</td>\n",
       "      <td>False</td>\n",
       "      <td>False</td>\n",
       "      <td>False</td>\n",
       "      <td>False</td>\n",
       "      <td>False</td>\n",
       "      <td>False</td>\n",
       "    </tr>\n",
       "  </tbody>\n",
       "</table>\n",
       "<p>5 rows × 231 columns</p>\n",
       "</div>"
      ],
      "text/plain": [
       "   Var6 Var7 Var13 Var21 Var22 Var24 Var25   Var28 Var35    Var38  ...  \\\n",
       "0  1526    7   184   464   580    14   128  166.56     0     3570  ...   \n",
       "1   525    0     0   168   210     2    24  353.52     0  4764966  ...   \n",
       "2  5236    7   904  1212  1515    26   816  220.08     0  5883894  ...   \n",
       "3   NaN    0     0   NaN     0   NaN     0   22.08     0        0  ...   \n",
       "4  1029    7  3216    64    80     4    64     200     0        0  ...   \n",
       "\n",
       "  Var186_na  Var187_na Var188_na Var190_na  Var191_na Var209_na Var213_na  \\\n",
       "0     False      False     False     False      False     False     False   \n",
       "1     False      False     False     False      False     False     False   \n",
       "2     False      False     False     False      False     False     False   \n",
       "3     False      False     False     False      False     False     False   \n",
       "4     False      False     False     False      False     False     False   \n",
       "\n",
       "  Var215_na Var224_na Var230_na  \n",
       "0     False     False     False  \n",
       "1     False     False     False  \n",
       "2     False     False     False  \n",
       "3     False     False     False  \n",
       "4     False     False     False  \n",
       "\n",
       "[5 rows x 231 columns]"
      ]
     },
     "execution_count": 7,
     "metadata": {},
     "output_type": "execute_result"
    }
   ],
   "source": [
    "data_clean.head(5)"
   ]
  },
  {
   "cell_type": "code",
   "execution_count": 8,
   "metadata": {},
   "outputs": [],
   "source": [
    "for col, i in zip(data_clean.columns,data_clean.dtypes):\n",
    "    if i == object:\n",
    "        try:\n",
    "            data_clean[col] = data_clean[col].astype(float)\n",
    "        except:\n",
    "            pass\n",
    "str_cols = []\n",
    "for col in data_clean.columns:\n",
    "    for i in range(len(data_clean)):\n",
    "        if pd.isna(data_clean[col].values[i]) == False:\n",
    "            if(type(data_clean[col].values[i])==str):\n",
    "                str_cols.append(col)\n",
    "            break"
   ]
  },
  {
   "cell_type": "code",
   "execution_count": 32,
   "metadata": {},
   "outputs": [],
   "source": [
    "def max_occurency(a):\n",
    "    '''this function returns the most frequent element \n",
    "    in the given iterable element, while NaN values are ignored.\n",
    "    '''\n",
    "    freq_dict = {}\n",
    "    for elem in a:\n",
    "        if pd.isna(elem) == False:\n",
    "            if freq_dict.get(elem) == None:\n",
    "                freq_dict[elem] = 1\n",
    "            else:\n",
    "                freq_dict[elem] += 1\n",
    "    return max(freq_dict, key=freq_dict.get)"
   ]
  },
  {
   "cell_type": "code",
   "execution_count": 19,
   "metadata": {},
   "outputs": [],
   "source": [
    "def freq_occurency(a):\n",
    "    freq_dict = {}\n",
    "    for elem in a:\n",
    "        if freq_dict.get(elem) == None:\n",
    "            freq_dict[elem] = 1\n",
    "        else:\n",
    "            freq_dict[elem] += 1\n",
    "    return freq_dict"
   ]
  },
  {
   "cell_type": "markdown",
   "metadata": {},
   "source": [
    "We apply here function max_occurency to string columns in order to fill NaNs with most frequent value in the corresponding column."
   ]
  },
  {
   "cell_type": "code",
   "execution_count": 20,
   "metadata": {},
   "outputs": [],
   "source": [
    "for col in str_cols:\n",
    "    string_freq = max_occurency(data_clean[col].values)\n",
    "    data_clean[col].fillna(string_freq, inplace=True)"
   ]
  },
  {
   "cell_type": "code",
   "execution_count": 23,
   "metadata": {},
   "outputs": [],
   "source": [
    "freq_dicts = []\n",
    "for col in str_cols:\n",
    "    freq_dicts.append(freq_occurency(data_clean[col].values))"
   ]
  },
  {
   "cell_type": "code",
   "execution_count": 24,
   "metadata": {
    "scrolled": true
   },
   "outputs": [],
   "source": [
    "frequent_strs = []\n",
    "for dictionary in freq_dicts:\n",
    "    strs = sorted(dictionary.items(), key=operator.itemgetter(1),reverse=True)[:3]\n",
    "    #print(strs)\n",
    "    frequent_strs.append(strs)"
   ]
  },
  {
   "cell_type": "markdown",
   "metadata": {},
   "source": [
    "This function is used for decreasing the number of distinct string values. Here only most frequent values are kept, while other values are set to -1. After that we can either proceed one-hot encoding to them or just simply leave them as they are \n",
    "$(vals \\in{-1,0,1,2})$."
   ]
  },
  {
   "cell_type": "code",
   "execution_count": 25,
   "metadata": {},
   "outputs": [],
   "source": [
    "def prepare_repl_dict(freq_dict,i):\n",
    "    try:\n",
    "        repl_dict = [freq_dict[i][0][0],\n",
    "                 freq_dict[i][1][0],\n",
    "                 freq_dict[i][2][0]]\n",
    "        repl_set = {freq_dict[i][0][0],\n",
    "                freq_dict[i][1][0],\n",
    "                freq_dict[i][2][0]}\n",
    "    except:\n",
    "        repl_dict = [freq_dict[i][0][0],\n",
    "                 freq_dict[i][1][0]]\n",
    "        repl_set = {freq_dict[i][0][0],\n",
    "                freq_dict[i][1][0]}\n",
    "    return repl_dict, repl_set"
   ]
  },
  {
   "cell_type": "markdown",
   "metadata": {},
   "source": [
    "Here we apply our function to the data keeping in mind that exceptions may occur (if number of unique values is less than 3)"
   ]
  },
  {
   "cell_type": "code",
   "execution_count": 26,
   "metadata": {},
   "outputs": [
    {
     "name": "stderr",
     "output_type": "stream",
     "text": [
      "/Users/egor/anaconda3/lib/python3.7/site-packages/ipykernel_launcher.py:3: SettingWithCopyWarning: \n",
      "A value is trying to be set on a copy of a slice from a DataFrame\n",
      "\n",
      "See the caveats in the documentation: http://pandas.pydata.org/pandas-docs/stable/indexing.html#indexing-view-versus-copy\n",
      "  This is separate from the ipykernel package so we can avoid doing imports until\n",
      "/Users/egor/anaconda3/lib/python3.7/site-packages/ipykernel_launcher.py:6: SettingWithCopyWarning: \n",
      "A value is trying to be set on a copy of a slice from a DataFrame\n",
      "\n",
      "See the caveats in the documentation: http://pandas.pydata.org/pandas-docs/stable/indexing.html#indexing-view-versus-copy\n",
      "  \n",
      "/Users/egor/anaconda3/lib/python3.7/site-packages/ipykernel_launcher.py:9: SettingWithCopyWarning: \n",
      "A value is trying to be set on a copy of a slice from a DataFrame\n",
      "\n",
      "See the caveats in the documentation: http://pandas.pydata.org/pandas-docs/stable/indexing.html#indexing-view-versus-copy\n",
      "  if __name__ == '__main__':\n"
     ]
    }
   ],
   "source": [
    "for i in range(len(str_cols)):\n",
    "    r_array, r_set = prepare_repl_dict(frequent_strs,i)\n",
    "    data_clean[str_cols[i]][data_clean[str_cols[i]].isin(r_set) == False] = -1\n",
    "    try:\n",
    "        for j in range(3):\n",
    "            data_clean[str_cols[i]][data_clean[str_cols[i]] == r_array[j]] = j\n",
    "    except:\n",
    "        for j in range(2):\n",
    "            data_clean[str_cols[i]][data_clean[str_cols[i]] == r_array[j]] = j"
   ]
  },
  {
   "cell_type": "code",
   "execution_count": 27,
   "metadata": {},
   "outputs": [
    {
     "name": "stderr",
     "output_type": "stream",
     "text": [
      "/Users/egor/anaconda3/lib/python3.7/site-packages/numpy/lib/function_base.py:3405: RuntimeWarning: Invalid value encountered in median\n",
      "  r = func(a, **kwargs)\n"
     ]
    }
   ],
   "source": [
    "data_clean = data_clean.astype(float)\n",
    "for col in data_clean.columns:\n",
    "    med = np.ceil(np.median(data_clean[col].values))\n",
    "    data_clean[col].fillna(med)"
   ]
  },
  {
   "cell_type": "code",
   "execution_count": 28,
   "metadata": {},
   "outputs": [],
   "source": [
    "for col in data_clean.columns:\n",
    "    data_clean[col]=data_clean[col].fillna(np.ceil(np.median(data_clean[col][data_clean[col].isna()==False].values)))"
   ]
  },
  {
   "cell_type": "markdown",
   "metadata": {},
   "source": [
    "Let's ensure that we don't have any NaNs left:"
   ]
  },
  {
   "cell_type": "code",
   "execution_count": 29,
   "metadata": {},
   "outputs": [
    {
     "data": {
      "text/plain": [
       "Var6         50000\n",
       "Var7         50000\n",
       "Var13        50000\n",
       "Var21        50000\n",
       "Var22        50000\n",
       "Var24        50000\n",
       "Var25        50000\n",
       "Var28        50000\n",
       "Var35        50000\n",
       "Var38        50000\n",
       "Var44        50000\n",
       "Var57        50000\n",
       "Var65        50000\n",
       "Var72        50000\n",
       "Var73        50000\n",
       "Var74        50000\n",
       "Var76        50000\n",
       "Var78        50000\n",
       "Var81        50000\n",
       "Var83        50000\n",
       "Var85        50000\n",
       "Var94        50000\n",
       "Var109       50000\n",
       "Var112       50000\n",
       "Var113       50000\n",
       "Var119       50000\n",
       "Var123       50000\n",
       "Var125       50000\n",
       "Var126       50000\n",
       "Var132       50000\n",
       "             ...  \n",
       "Var164_na    50000\n",
       "Var165_na    50000\n",
       "Var166_na    50000\n",
       "Var167_na    50000\n",
       "Var168_na    50000\n",
       "Var169_na    50000\n",
       "Var170_na    50000\n",
       "Var171_na    50000\n",
       "Var172_na    50000\n",
       "Var174_na    50000\n",
       "Var175_na    50000\n",
       "Var176_na    50000\n",
       "Var177_na    50000\n",
       "Var178_na    50000\n",
       "Var179_na    50000\n",
       "Var180_na    50000\n",
       "Var182_na    50000\n",
       "Var183_na    50000\n",
       "Var184_na    50000\n",
       "Var185_na    50000\n",
       "Var186_na    50000\n",
       "Var187_na    50000\n",
       "Var188_na    50000\n",
       "Var190_na    50000\n",
       "Var191_na    50000\n",
       "Var209_na    50000\n",
       "Var213_na    50000\n",
       "Var215_na    50000\n",
       "Var224_na    50000\n",
       "Var230_na    50000\n",
       "Length: 231, dtype: int64"
      ]
     },
     "execution_count": 29,
     "metadata": {},
     "output_type": "execute_result"
    }
   ],
   "source": [
    "data_clean.count()"
   ]
  },
  {
   "cell_type": "code",
   "execution_count": 30,
   "metadata": {},
   "outputs": [],
   "source": [
    "data_clean[str_cols] = data_clean[str_cols].astype(int)"
   ]
  }
 ],
 "metadata": {
  "kernelspec": {
   "display_name": "Python 3",
   "language": "python",
   "name": "python3"
  },
  "language_info": {
   "codemirror_mode": {
    "name": "ipython",
    "version": 3
   },
   "file_extension": ".py",
   "mimetype": "text/x-python",
   "name": "python",
   "nbconvert_exporter": "python",
   "pygments_lexer": "ipython3",
   "version": "3.7.3"
  }
 },
 "nbformat": 4,
 "nbformat_minor": 2
}
